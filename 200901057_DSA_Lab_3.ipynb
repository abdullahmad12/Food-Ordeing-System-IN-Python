{
  "nbformat": 4,
  "nbformat_minor": 0,
  "metadata": {
    "colab": {
      "name": "200901057_DSA Lab 3",
      "provenance": [],
      "collapsed_sections": [],
      "authorship_tag": "ABX9TyPSgFs8Uiuoh/ilu2542Fx3",
      "include_colab_link": true
    },
    "kernelspec": {
      "name": "python3",
      "display_name": "Python 3"
    },
    "language_info": {
      "name": "python"
    }
  },
  "cells": [
    {
      "cell_type": "markdown",
      "metadata": {
        "id": "view-in-github",
        "colab_type": "text"
      },
      "source": [
        "<a href=\"https://colab.research.google.com/github/abdullahmad12/Atm_/blob/main/200901057_DSA_Lab_3.ipynb\" target=\"_parent\"><img src=\"https://colab.research.google.com/assets/colab-badge.svg\" alt=\"Open In Colab\"/></a>"
      ]
    },
    {
      "cell_type": "code",
      "metadata": {
        "colab": {
          "base_uri": "https://localhost:8080/"
        },
        "id": "CoqURZFGS2qc",
        "outputId": "d1e7dc71-e056-41d7-dff1-c4e8ad3fb743"
      },
      "source": [
        "from collections import deque\n",
        "import time\n",
        "import threading\n",
        "\n",
        "class meal:\n",
        "    buffer=deque()\n",
        "    def init(self):\n",
        "        self.buffer = deque()\n",
        "    def enqueue(self, menu):\n",
        "        self.buffer.appendleft(menu)\n",
        "    def deqeue(self):\n",
        "        if len(self.buffer) == 0:\n",
        "            print(\"**__**Empty Queue**__**\")\n",
        "            return\n",
        "        return self.buffer.pop()\n",
        "    def is_empty(self):\n",
        "        return len(self.buffer) == 0\n",
        "    def size(self):\n",
        "        return len(self.buffer)\n",
        "    def front(self):\n",
        "        return self.buffer[-1]\n",
        "def place_orders(menu):\n",
        "    for items in menu:\n",
        "        time.sleep(0.5)\n",
        "        objects.enqueue(items)\n",
        "def serve_orders(menu):\n",
        "    print(\"**__**Orders are Being Served**__**\")\n",
        "    time.sleep(2.0)\n",
        "    for items in menu:\n",
        "        print(objects.deqeue())\n",
        "objects = meal()\n",
        "menu = ['Pizza', 'Samosa', 'Pasta', 'Biryani', 'Burger']\n",
        "time0 = time.time()\n",
        "t1 = threading.Thread(target=place_orders, args=(menu,))\n",
        "t2 = threading.Thread(target=serve_orders, args=(menu,))\n",
        "t1.start()\n",
        "t2.start()\n",
        "t1.join()\n",
        "t2.join()\n",
        "print(\"Processing Time:\", time.time() - time0)"
      ],
      "execution_count": 14,
      "outputs": [
        {
          "output_type": "stream",
          "name": "stdout",
          "text": [
            "**__**Orders are Being Served**__**\n",
            "Pizza\n",
            "Samosa\n",
            "Pasta\n",
            "**__**Empty Queue**__**\n",
            "None\n",
            "**__**Empty Queue**__**\n",
            "None\n",
            "Processing Time: 2.505173683166504\n"
          ]
        }
      ]
    }
  ]
}